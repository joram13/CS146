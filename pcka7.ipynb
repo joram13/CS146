{
 "cells": [
  {
   "cell_type": "code",
   "execution_count": 76,
   "metadata": {},
   "outputs": [
    {
     "name": "stdout",
     "output_type": "stream",
     "text": [
      "Started at [3 3 3 3]\n",
      "Ended at [ 2.29999987  5.5000036   9.56249983 23.54687433]\n",
      "f([ 2.29999987  5.5000036   9.56249983 23.54687433]) = 0.000000\n"
     ]
    }
   ],
   "source": [
    "import numpy as np\n",
    "from scipy.optimize import minimize\n",
    "def f(x):\n",
    "    return (((x[0]-2.3)**2) + (((x[3]/((x[2]-1)*x[1]))-0.5)**2) +((((x[3]**2)/(((x[2]-1)**2)*(x[2]-2)))-1)**2)+(((x[3]/(x[2]-1))-2.75)**2))\n",
    "\n",
    "#y,v,a,b = x[0] x[1] x[2] x[3]\n",
    "x_initial = np.array([3, 3, 3, 3])\n",
    "result = minimize(f, x_initial)\n",
    "x_final = result.x\n",
    "print('Started at', x_initial)\n",
    "print('Ended at', x_final)\n",
    "print('f(%s) = %.6f' % (x_final, f(x_final)))"
   ]
  },
  {
   "cell_type": "code",
   "execution_count": null,
   "metadata": {},
   "outputs": [],
   "source": []
  },
  {
   "cell_type": "code",
   "execution_count": null,
   "metadata": {},
   "outputs": [],
   "source": []
  },
  {
   "cell_type": "code",
   "execution_count": null,
   "metadata": {},
   "outputs": [],
   "source": []
  },
  {
   "cell_type": "code",
   "execution_count": null,
   "metadata": {},
   "outputs": [],
   "source": []
  },
  {
   "cell_type": "code",
   "execution_count": null,
   "metadata": {},
   "outputs": [],
   "source": []
  },
  {
   "cell_type": "code",
   "execution_count": null,
   "metadata": {},
   "outputs": [],
   "source": []
  },
  {
   "cell_type": "code",
   "execution_count": null,
   "metadata": {},
   "outputs": [],
   "source": []
  }
 ],
 "metadata": {
  "kernelspec": {
   "display_name": "Python 3",
   "language": "python",
   "name": "python3"
  },
  "language_info": {
   "codemirror_mode": {
    "name": "ipython",
    "version": 3
   },
   "file_extension": ".py",
   "mimetype": "text/x-python",
   "name": "python",
   "nbconvert_exporter": "python",
   "pygments_lexer": "ipython3",
   "version": "3.8.3"
  }
 },
 "nbformat": 4,
 "nbformat_minor": 4
}
