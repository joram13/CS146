{
 "cells": [
  {
   "cell_type": "code",
   "execution_count": 13,
   "metadata": {},
   "outputs": [],
   "source": [
    "from scipy import stats\n",
    "import numpy as np\n",
    "import math\n",
    "def samp_error(n, p):\n",
    "    \n",
    "    cf = stats.norm.interval(0.95, loc=n*p,scale= math.sqrt(n*p*(1-p)))\n",
    "    \n",
    "    return round(abs((n*p)-cf[0])/n, 2)\n"
   ]
  },
  {
   "cell_type": "code",
   "execution_count": 20,
   "metadata": {},
   "outputs": [
    {
     "name": "stdout",
     "output_type": "stream",
     "text": [
      "[0.02, 0.02, 0.03, 0.04, 0.06]\n",
      "[0.02, 0.03, 0.04, 0.05, 0.08]\n",
      "[0.03, 0.03, 0.04, 0.06, 0.09]\n",
      "[0.03, 0.04, 0.04, 0.06, 0.1]\n",
      "[0.03, 0.04, 0.04, 0.06, 0.1]\n",
      "[0.03, 0.04, 0.04, 0.06, 0.1]\n",
      "[0.03, 0.03, 0.04, 0.06, 0.09]\n",
      "[0.02, 0.03, 0.04, 0.05, 0.08]\n",
      "[0.02, 0.02, 0.03, 0.04, 0.06]\n"
     ]
    }
   ],
   "source": [
    "sizes = [1000, 750, 500, 250, 100]\n",
    "errors = []\n",
    "percent = [0.1, 0.2, 0.3, 0.4, 0.5, 0.6, 0.7, 0.8, 0.9]\n",
    "for p in percent:\n",
    "    errors.append([])\n",
    "    for n in sizes:\n",
    "        errors[len(errors)-1].append(samp_error(n, p))\n",
    "        \n",
    "for i in errors:\n",
    "    print(i)"
   ]
  },
  {
   "cell_type": "code",
   "execution_count": 14,
   "metadata": {},
   "outputs": [
    {
     "name": "stdout",
     "output_type": "stream",
     "text": [
      "0.02\n"
     ]
    }
   ],
   "source": [
    "print(samp_error(1000, 0.1))"
   ]
  },
  {
   "cell_type": "code",
   "execution_count": null,
   "metadata": {},
   "outputs": [],
   "source": [
    "# the error differs for more for smaller sample sizes. This could be because small sample sizes make our normal\n",
    "# approximation of the binomial function less good."
   ]
  }
 ],
 "metadata": {
  "kernelspec": {
   "display_name": "Python 3",
   "language": "python",
   "name": "python3"
  },
  "language_info": {
   "codemirror_mode": {
    "name": "ipython",
    "version": 3
   },
   "file_extension": ".py",
   "mimetype": "text/x-python",
   "name": "python",
   "nbconvert_exporter": "python",
   "pygments_lexer": "ipython3",
   "version": "3.8.3"
  }
 },
 "nbformat": 4,
 "nbformat_minor": 4
}
