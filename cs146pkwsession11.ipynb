{
 "cells": [
  {
   "cell_type": "code",
   "execution_count": 7,
   "metadata": {},
   "outputs": [],
   "source": [
    "import pandas as pd\n",
    "\n",
    "data = pd.read_csv('socialmobility.csv')"
   ]
  },
  {
   "cell_type": "code",
   "execution_count": 9,
   "metadata": {},
   "outputs": [
    {
     "name": "stdout",
     "output_type": "stream",
     "text": [
      "          father           son  count\n",
      "0           farm          farm    703\n",
      "1           farm     unskilled   1478\n",
      "2           farm       skilled   1430\n",
      "3           farm  professional   1109\n",
      "4      unskilled          farm     58\n",
      "5      unskilled     unskilled   1756\n",
      "6      unskilled       skilled   1630\n",
      "7      unskilled  professional   1568\n",
      "8        skilled          farm     63\n",
      "9        skilled     unskilled   1453\n",
      "10       skilled       skilled   2068\n",
      "11       skilled  professional   2483\n",
      "12  professional          farm     61\n",
      "13  professional     unskilled    749\n",
      "14  professional       skilled   1183\n",
      "15  professional  professional   3315\n"
     ]
    }
   ],
   "source": [
    "print(data)"
   ]
  },
  {
   "cell_type": "code",
   "execution_count": 10,
   "metadata": {},
   "outputs": [],
   "source": [
    "import scipy.stats as sts\n",
    "import numpy as np\n",
    "\n",
    "#general \n",
    "alpha_0 = [1 for i in range(16)]\n",
    "\n",
    "prior = sts.dirichlet(alpha_0)\n",
    "\n",
    "alpha_1 = [data['count'][i] + alpha[i] for i in range(16)]\n",
    "\n",
    "posterior = sts.dirichlet(alpha_1)\n"
   ]
  },
  {
   "cell_type": "code",
   "execution_count": 27,
   "metadata": {},
   "outputs": [
    {
     "name": "stdout",
     "output_type": "stream",
     "text": [
      "[59, 1757, 1631, 1569]\n",
      "[0.31261293 0.33782777]\n"
     ]
    }
   ],
   "source": [
    "#for question 1 we look at the sons work given the father was a unskilled worker \n",
    "alpha_0 = [1 for i in range(4)]\n",
    "\n",
    "prior = sts.dirichlet(alpha_0)\n",
    "\n",
    "alpha_1 = [data['count'][i+4] + alpha_0[i] for i in range(4)]\n",
    "\n",
    "posterior = sts.dirichlet(alpha_1)\n",
    "\n",
    "print(alpha_1)\n",
    "\n",
    "\n",
    "samples = posterior.rvs(size=1000)\n",
    "\n",
    "skilled = [i[2] for i in samples]\n",
    "\n",
    "print(np.quantile(skilled, [0.025, 0.975]))\n",
    "\n",
    "\n"
   ]
  },
  {
   "cell_type": "code",
   "execution_count": 28,
   "metadata": {},
   "outputs": [
    {
     "name": "stdout",
     "output_type": "stream",
     "text": [
      "[1110, 1569, 2484, 3316]\n",
      "[0.12399574 0.13787704]\n"
     ]
    }
   ],
   "source": [
    "#for question 1 we look at the sons work given the father was a unskilled worker \n",
    "alpha_0 = [1 for i in range(4)]\n",
    "\n",
    "prior = sts.dirichlet(alpha_0)\n",
    "\n",
    "alpha_1 = [data['count'][3 + (i*4)] + alpha_0[i] for i in range(4)]\n",
    "\n",
    "posterior = sts.dirichlet(alpha_1)\n",
    "\n",
    "print(alpha_1)\n",
    "\n",
    "\n",
    "samples = posterior.rvs(size=1000)\n",
    "\n",
    "farm = [i[0] for i in samples]\n",
    "\n",
    "print(np.quantile(farm, [0.025, 0.975]))"
   ]
  },
  {
   "cell_type": "code",
   "execution_count": null,
   "metadata": {},
   "outputs": [],
   "source": []
  }
 ],
 "metadata": {
  "kernelspec": {
   "display_name": "Python 3",
   "language": "python",
   "name": "python3"
  },
  "language_info": {
   "codemirror_mode": {
    "name": "ipython",
    "version": 3
   },
   "file_extension": ".py",
   "mimetype": "text/x-python",
   "name": "python",
   "nbconvert_exporter": "python",
   "pygments_lexer": "ipython3",
   "version": "3.8.3"
  }
 },
 "nbformat": 4,
 "nbformat_minor": 4
}
